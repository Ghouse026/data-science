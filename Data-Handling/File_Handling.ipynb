{
 "cells": [
  {
   "cell_type": "code",
   "execution_count": 1,
   "id": "f9c3f237-11f1-4837-9938-13a33a1438a8",
   "metadata": {},
   "outputs": [],
   "source": [
    "# Import package for navigating through files stored on your device/on Google Colaboratory\n",
    "import os\n",
    "# Import package for working with JSON files\n",
    "import json\n",
    "# Import package for working with CSV files\n",
    "import csv"
   ]
  },
  {
   "cell_type": "code",
   "execution_count": 2,
   "id": "12a91309-9f93-40e8-9a8d-236e30fa6cb1",
   "metadata": {},
   "outputs": [],
   "source": [
    "def load_data(main_folder):\n",
    "    sales_data = {}\n",
    "    product_details = {}\n",
    "    product_descriptions = {}\n",
    "\n",
    "    # Load sales data from CSV\n",
    "    csv_path = os.path.join(main_folder, \"sales_data.csv\")\n",
    "    with open(csv_path, \"r\") as file:\n",
    "        reader = csv.reader(file)\n",
    "        header = next(reader)\n",
    "        for row in reader:\n",
    "            sales_data[row[0]] = list(map(int, row[1:]))\n",
    "\n",
    "    # Load product details from JSON files\n",
    "    product_details_folder = os.path.join(main_folder, \"product_details\")\n",
    "    for filename in os.listdir(product_details_folder):\n",
    "        if filename.endswith(\".json\"):\n",
    "            sku = filename.split(\"_\")[1].split(\".\")[0]\n",
    "            with open(os.path.join(product_details_folder, filename), \"r\") as file:\n",
    "                product_details[sku] = json.load(file)\n",
    "\n",
    "    # Load product descriptions from TXT files\n",
    "    product_descriptions_folder = os.path.join(main_folder, \"product_descriptions\")\n",
    "    for filename in os.listdir(product_descriptions_folder):\n",
    "        if filename.endswith(\".txt\"):\n",
    "            sku = filename.split(\"_\")[1].split(\".\")[0]\n",
    "            with open(os.path.join(product_descriptions_folder, filename), \"r\") as file:\n",
    "                product_descriptions[sku] = file.read().strip()\n",
    "\n",
    "    return sales_data, product_details, product_descriptions"
   ]
  },
  {
   "cell_type": "code",
   "execution_count": 3,
   "id": "4ec70970-d3a8-45f2-9292-69a4e1581fcd",
   "metadata": {},
   "outputs": [],
   "source": [
    "# Updating sales data\n",
    "def update_sales_data(sales_data, sku, new_sales):\n",
    "    sales_data[sku] = new_sales"
   ]
  },
  {
   "cell_type": "code",
   "execution_count": 4,
   "id": "9ccd1366-0621-4c77-a33f-6c8afef3a489",
   "metadata": {},
   "outputs": [],
   "source": [
    "# Updating product details\n",
    "def update_product_details(product_details, sku, details):\n",
    "    product_details[sku] = details"
   ]
  },
  {
   "cell_type": "code",
   "execution_count": 5,
   "id": "de99c183-61a4-4fb6-9034-d0a0a3fb0443",
   "metadata": {},
   "outputs": [],
   "source": [
    "# Updating product descriptions\n",
    "def update_product_description(product_descriptions, sku, description):\n",
    "    product_descriptions[sku] = description"
   ]
  },
  {
   "cell_type": "code",
   "execution_count": 6,
   "id": "0619f080-b2bf-4cf4-ae13-731b524f9c0e",
   "metadata": {},
   "outputs": [],
   "source": [
    "# update function to get input \n",
    "def update(sales_data, product_details, product_descriptions):\n",
    "    sku = input(\"Enter SKU (13 characters): \").strip()\n",
    "    if len(sku) != 13:\n",
    "        print(\"Error: SKU must be exactly 13 characters long.\")\n",
    "        return\n",
    "\n",
    "    try:\n",
    "        new_sales = list(map(int, input(\"Enter sales data for 14 days (space-separated): \").split()))\n",
    "        if len(new_sales) != 14:\n",
    "            raise ValueError\n",
    "    except ValueError:\n",
    "        print(\"Error: Sales data must be 14 whole numbers.\")\n",
    "        return\n",
    "\n",
    "    name = input(\"Enter product name: \")\n",
    "    brand = input(\"Enter brand: \")\n",
    "    model = input(\"Enter model: \")\n",
    "    specifications = input(\"Enter specifications: \")\n",
    "    price = input(\"Enter price: \")\n",
    "    availability = input(\"Enter availability: \")\n",
    "\n",
    "    description = input(\"Enter product description: \")\n",
    "\n",
    "    # Update dictionaries\n",
    "    update_sales_data(sales_data, sku, new_sales)\n",
    "    update_product_details(product_details, sku, {\n",
    "        \"name\": name,\n",
    "        \"brand\": brand,\n",
    "        \"model\": model,\n",
    "        \"specifications\": specifications,\n",
    "        \"price\": price,\n",
    "        \"availability\": availability,\n",
    "    })\n",
    "    update_product_description(product_descriptions, sku, description)\n",
    "\n",
    "    print(\"Product successfully updated!\")\n",
    "    return product_details, sales_data, product_descriptions"
   ]
  },
  {
   "cell_type": "code",
   "execution_count": 7,
   "id": "7b660a25-f0b8-4c73-bf43-ae8721661bbe",
   "metadata": {},
   "outputs": [],
   "source": [
    "def dump_data(sales_data, product_details, product_descriptions, main_folder):\n",
    "    # Ensure main folder exists\n",
    "    os.makedirs(main_folder, exist_ok=True)\n",
    "\n",
    "    # Dump sales data into CSV\n",
    "    csv_path = os.path.join(main_folder, \"sales_data.csv\")\n",
    "    with open(csv_path, \"w\", newline=\"\") as file:\n",
    "        writer = csv.writer(file)\n",
    "        writer.writerow([\"Product_SKU\"] + [f\"Day{i}\" for i in range(1, 15)])\n",
    "        for sku, sales in sales_data.items():\n",
    "            writer.writerow([sku] + sales)\n",
    "\n",
    "    # Dump product details into JSON\n",
    "    product_details_folder = os.path.join(main_folder, \"product_details\")\n",
    "    os.makedirs(product_details_folder, exist_ok=True)\n",
    "    for sku, details in product_details.items():\n",
    "        json_path = os.path.join(product_details_folder, f\"details_{sku}.json\")\n",
    "        with open(json_path, \"w\") as file:\n",
    "            json.dump(details, file, indent=4)\n",
    "\n",
    "    # Dump product descriptions into TXT\n",
    "    product_descriptions_folder = os.path.join(main_folder, \"product_descriptions\")\n",
    "    os.makedirs(product_descriptions_folder, exist_ok=True)\n",
    "    for sku, description in product_descriptions.items():\n",
    "        txt_path = os.path.join(product_descriptions_folder, f\"description_{sku}.txt\")\n",
    "        with open(txt_path, \"w\") as file:\n",
    "            file.write(description)"
   ]
  },
  {
   "cell_type": "code",
   "execution_count": 13,
   "id": "a1e9a081-6005-4c7a-b87e-9cff48721b5d",
   "metadata": {},
   "outputs": [
    {
     "name": "stdin",
     "output_type": "stream",
     "text": [
      "Enter SKU (13 characters):  AISJDKFJW93NJ\n",
      "Enter sales data for 14 days (space-separated):  10 12 15 18 20 22 25 28 26 30 32 29 27 24\n",
      "Enter product name:  Wall Art Print\n",
      "Enter brand:  ArtCraft\n",
      "Enter model:  NatureCanvas-1001\n",
      "Enter specifications:  Canvas print, Ready to hang\n",
      "Enter price:  $49.99\n",
      "Enter availability:  In stock\n",
      "Enter product description:  Transform your living space with ArtCraft's NatureCanvas-1001 Wall Art Print. This canvas print, ready to hang, brings the beauty of nature into your home. With dimensions of 16 x 20 inches and a 4.6/5 stars rating, it's a stunning addition to your decor, creating a focal point that captures attention and sparks conversation. Product successfully updated!\n"
     ]
    },
    {
     "name": "stdout",
     "output_type": "stream",
     "text": [
      "Product successfully updated!\n"
     ]
    }
   ],
   "source": [
    "main_folder = \"mainfolder\"\n",
    "# loading data\n",
    "sales_data, product_details, product_descriptions = load_data(main_folder)\n",
    "\n",
    "# Updating dictionaries\n",
    "update(sales_data, product_details, product_descriptions)\n",
    "\n",
    "# Save changes to disk\n",
    "dump_data(sales_data, product_details, product_descriptions, main_folder)"
   ]
  },
  {
   "cell_type": "code",
   "execution_count": null,
   "id": "124e84e9-2e57-47d5-bee8-762fc1863189",
   "metadata": {},
   "outputs": [],
   "source": []
  }
 ],
 "metadata": {
  "kernelspec": {
   "display_name": "Python 3 (ipykernel)",
   "language": "python",
   "name": "python3"
  },
  "language_info": {
   "codemirror_mode": {
    "name": "ipython",
    "version": 3
   },
   "file_extension": ".py",
   "mimetype": "text/x-python",
   "name": "python",
   "nbconvert_exporter": "python",
   "pygments_lexer": "ipython3",
   "version": "3.12.7"
  }
 },
 "nbformat": 4,
 "nbformat_minor": 5
}
