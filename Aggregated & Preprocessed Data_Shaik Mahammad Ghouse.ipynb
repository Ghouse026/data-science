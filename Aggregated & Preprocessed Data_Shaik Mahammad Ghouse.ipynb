{
 "cells": [
  {
   "cell_type": "code",
   "execution_count": 2,
   "id": "f1773358-4a0b-4e70-abba-f62d9385eca6",
   "metadata": {},
   "outputs": [],
   "source": [
    "import pandas as pd"
   ]
  },
  {
   "cell_type": "code",
   "execution_count": 12,
   "id": "7ff5977b-a6f8-4c32-80a5-0730887436d0",
   "metadata": {},
   "outputs": [
    {
     "name": "stdout",
     "output_type": "stream",
     "text": [
      "<class 'pandas.core.frame.DataFrame'>\n",
      "RangeIndex: 48120 entries, 0 to 48119\n",
      "Data columns (total 4 columns):\n",
      " #   Column    Non-Null Count  Dtype \n",
      "---  ------    --------------  ----- \n",
      " 0   DateTime  48120 non-null  object\n",
      " 1   Junction  48120 non-null  int64 \n",
      " 2   Vehicles  48120 non-null  int64 \n",
      " 3   ID        48120 non-null  int64 \n",
      "dtypes: int64(3), object(1)\n",
      "memory usage: 1.5+ MB\n"
     ]
    },
    {
     "data": {
      "text/plain": [
       "(None,\n",
       "         DateTime  Junction  Vehicles           ID\n",
       " 0  01/11/15 0:00         1        15  20151101001\n",
       " 1  01/11/15 1:00         1        13  20151101011\n",
       " 2  01/11/15 2:00         1        10  20151101021\n",
       " 3  01/11/15 3:00         1         7  20151101031\n",
       " 4  01/11/15 4:00         1         9  20151101041)"
      ]
     },
     "execution_count": 12,
     "metadata": {},
     "output_type": "execute_result"
    }
   ],
   "source": [
    "import pandas as pd\n",
    "\n",
    "# Load the dataset\n",
    "file_path = \"C://Users//shaik//Mentor_Ship - Upgrad//Dataset_Uber Traffic.csv\"\n",
    "df = pd.read_csv(file_path)\n",
    "\n",
    "# Display basic info and preview of the data\n",
    "df.info(), df.head()\n"
   ]
  },
  {
   "cell_type": "code",
   "execution_count": 16,
   "id": "bb75b6d0-d30f-437e-967e-a6d59ed3b018",
   "metadata": {},
   "outputs": [],
   "source": [
    "from sklearn.preprocessing import StandardScaler\n",
    "import numpy as np\n"
   ]
  },
  {
   "cell_type": "code",
   "execution_count": 14,
   "id": "a670f2fa-5a4f-433f-a70d-584a0117874d",
   "metadata": {},
   "outputs": [],
   "source": [
    "# Step 1 & 2: Data Cleaning & Pre-processing\n",
    "# Convert DateTime to datetime format\n",
    "df['DateTime'] = pd.to_datetime(df['DateTime'], format='%d/%m/%y %H:%M')\n",
    "\n",
    "# Handle missing values (if any)\n",
    "df = df.dropna()\n",
    "\n",
    "# Remove duplicates\n",
    "df = df.drop_duplicates()\n",
    "\n",
    "# Ensure correct data types\n",
    "df = df.astype({'Junction': int, 'Vehicles': int, 'ID': int})\n"
   ]
  },
  {
   "cell_type": "code",
   "execution_count": 17,
   "id": "95929ea1-3c25-4a82-8f2e-6192aafe99f6",
   "metadata": {},
   "outputs": [],
   "source": [
    "# Step 3: Aggregate traffic data into hourly intervals for each junction\n",
    "df_hourly = df.groupby([pd.Grouper(key='DateTime', freq='h'), 'Junction'])['Vehicles'].sum().reset_index()\n"
   ]
  },
  {
   "cell_type": "code",
   "execution_count": 18,
   "id": "f8119b76-519b-4b74-a878-472e3ce7990a",
   "metadata": {},
   "outputs": [],
   "source": [
    "# Step 4: Normalize vehicle counts\n",
    "scaler = StandardScaler()\n",
    "df_hourly['Vehicles_scaled'] = scaler.fit_transform(df_hourly[['Vehicles']])\n"
   ]
  },
  {
   "cell_type": "code",
   "execution_count": 19,
   "id": "8fa8185d-5c68-4254-9f32-2c62fad50f38",
   "metadata": {},
   "outputs": [],
   "source": [
    "# Step 5: Feature Engineering\n",
    "# Time-based features\n",
    "df_hourly['Hour'] = df_hourly['DateTime'].dt.hour\n",
    "df_hourly['DayOfWeek'] = df_hourly['DateTime'].dt.dayofweek\n",
    "df_hourly['Month'] = df_hourly['DateTime'].dt.month\n",
    "\n",
    "# Lag features\n",
    "df_hourly['Lag_1'] = df_hourly.groupby('Junction')['Vehicles'].shift(1)\n",
    "df_hourly['Lag_24'] = df_hourly.groupby('Junction')['Vehicles'].shift(24)\n",
    "\n",
    "# Binary indicator for weekend\n",
    "df_hourly['IsWeekend'] = df_hourly['DayOfWeek'].isin([5, 6]).astype(int)\n",
    "\n",
    "# (Optional) Binary indicator for special events (if known, otherwise skipped)\n"
   ]
  },
  {
   "cell_type": "code",
   "execution_count": 20,
   "id": "c38d7b15-c216-43d5-ae3b-301caff3b87a",
   "metadata": {},
   "outputs": [
    {
     "data": {
      "text/plain": [
       "(             DateTime  Junction  Vehicles  Vehicles_scaled  Hour  DayOfWeek  \\\n",
       " 0 2015-11-01 00:00:00         1        15        -0.375489     0          6   \n",
       " 1 2015-11-01 00:00:00         2         6        -0.809227     0          6   \n",
       " 2 2015-11-01 00:00:00         3         9        -0.664648     0          6   \n",
       " 3 2015-11-01 01:00:00         1        13        -0.471875     1          6   \n",
       " 4 2015-11-01 01:00:00         2         6        -0.809227     1          6   \n",
       " \n",
       "    Month  Lag_1  Lag_24  IsWeekend  \n",
       " 0     11    NaN     NaN          1  \n",
       " 1     11    NaN     NaN          1  \n",
       " 2     11    NaN     NaN          1  \n",
       " 3     11   15.0     NaN          1  \n",
       " 4     11    6.0     NaN          1  ,\n",
       "            Vehicles          Hour     DayOfWeek         Month     Lag_1  \\\n",
       " Vehicles   1.000000  2.199377e-01 -1.260265e-01 -2.272345e-02  0.970143   \n",
       " Hour       0.219938  1.000000e+00  4.629477e-17  1.496685e-15  0.200284   \n",
       " DayOfWeek -0.126027  4.629477e-17  1.000000e+00 -3.208219e-03 -0.122658   \n",
       " Month     -0.022723  1.496685e-15 -3.208219e-03  1.000000e+00 -0.022480   \n",
       " Lag_1      0.970143  2.002844e-01 -1.226579e-01 -2.247991e-02  1.000000   \n",
       " Lag_24     0.905146  2.199172e-01  9.410208e-03 -1.818813e-02  0.896069   \n",
       " IsWeekend -0.150550  3.612094e-17  7.901746e-01 -5.589111e-03 -0.149027   \n",
       " \n",
       "              Lag_24     IsWeekend  \n",
       " Vehicles   0.905146 -1.505503e-01  \n",
       " Hour       0.219917  3.612094e-17  \n",
       " DayOfWeek  0.009410  7.901746e-01  \n",
       " Month     -0.018188 -5.589111e-03  \n",
       " Lag_1      0.896069 -1.490272e-01  \n",
       " Lag_24     1.000000 -5.069604e-02  \n",
       " IsWeekend -0.050696  1.000000e+00  )"
      ]
     },
     "execution_count": 20,
     "metadata": {},
     "output_type": "execute_result"
    }
   ],
   "source": [
    "# Step 6: Evaluate feature importance using correlation\n",
    "correlation_matrix = df_hourly[['Vehicles', 'Hour', 'DayOfWeek', 'Month', 'Lag_1', 'Lag_24', 'IsWeekend']].corr()\n",
    "\n",
    "# Outputting processed dataset preview and correlation matrix\n",
    "df_hourly.head(), correlation_matrix\n"
   ]
  },
  {
   "cell_type": "code",
   "execution_count": null,
   "id": "8491e8bd-c472-4e1f-97b0-06f6a17c9ed8",
   "metadata": {},
   "outputs": [],
   "source": []
  },
  {
   "cell_type": "code",
   "execution_count": null,
   "id": "aec5a15b-507e-465b-8485-091e5f0da5a5",
   "metadata": {},
   "outputs": [],
   "source": []
  }
 ],
 "metadata": {
  "kernelspec": {
   "display_name": "Python 3 (ipykernel)",
   "language": "python",
   "name": "python3"
  },
  "language_info": {
   "codemirror_mode": {
    "name": "ipython",
    "version": 3
   },
   "file_extension": ".py",
   "mimetype": "text/x-python",
   "name": "python",
   "nbconvert_exporter": "python",
   "pygments_lexer": "ipython3",
   "version": "3.12.7"
  }
 },
 "nbformat": 4,
 "nbformat_minor": 5
}
