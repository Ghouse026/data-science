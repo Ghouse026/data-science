{
 "cells": [
  {
   "cell_type": "code",
   "execution_count": 64,
   "id": "0a727fcf-f4cb-4da8-b7cd-d3b1f8c5a8f3",
   "metadata": {},
   "outputs": [],
   "source": [
    "import pandas as pd\n",
    "from sklearn.preprocessing import StandardScaler"
   ]
  },
  {
   "cell_type": "code",
   "execution_count": 65,
   "id": "87da9567-1398-4fed-917f-e943695eb936",
   "metadata": {},
   "outputs": [
    {
     "data": {
      "text/html": [
       "<div>\n",
       "<style scoped>\n",
       "    .dataframe tbody tr th:only-of-type {\n",
       "        vertical-align: middle;\n",
       "    }\n",
       "\n",
       "    .dataframe tbody tr th {\n",
       "        vertical-align: top;\n",
       "    }\n",
       "\n",
       "    .dataframe thead th {\n",
       "        text-align: right;\n",
       "    }\n",
       "</style>\n",
       "<table border=\"1\" class=\"dataframe\">\n",
       "  <thead>\n",
       "    <tr style=\"text-align: right;\">\n",
       "      <th></th>\n",
       "      <th>DateTime</th>\n",
       "      <th>Junction</th>\n",
       "      <th>Vehicles</th>\n",
       "      <th>ID</th>\n",
       "    </tr>\n",
       "  </thead>\n",
       "  <tbody>\n",
       "    <tr>\n",
       "      <th>0</th>\n",
       "      <td>01/11/15 0:00</td>\n",
       "      <td>1</td>\n",
       "      <td>15</td>\n",
       "      <td>20151101001</td>\n",
       "    </tr>\n",
       "    <tr>\n",
       "      <th>1</th>\n",
       "      <td>01/11/15 1:00</td>\n",
       "      <td>1</td>\n",
       "      <td>13</td>\n",
       "      <td>20151101011</td>\n",
       "    </tr>\n",
       "    <tr>\n",
       "      <th>2</th>\n",
       "      <td>01/11/15 2:00</td>\n",
       "      <td>1</td>\n",
       "      <td>10</td>\n",
       "      <td>20151101021</td>\n",
       "    </tr>\n",
       "    <tr>\n",
       "      <th>3</th>\n",
       "      <td>01/11/15 3:00</td>\n",
       "      <td>1</td>\n",
       "      <td>7</td>\n",
       "      <td>20151101031</td>\n",
       "    </tr>\n",
       "    <tr>\n",
       "      <th>4</th>\n",
       "      <td>01/11/15 4:00</td>\n",
       "      <td>1</td>\n",
       "      <td>9</td>\n",
       "      <td>20151101041</td>\n",
       "    </tr>\n",
       "  </tbody>\n",
       "</table>\n",
       "</div>"
      ],
      "text/plain": [
       "        DateTime  Junction  Vehicles           ID\n",
       "0  01/11/15 0:00         1        15  20151101001\n",
       "1  01/11/15 1:00         1        13  20151101011\n",
       "2  01/11/15 2:00         1        10  20151101021\n",
       "3  01/11/15 3:00         1         7  20151101031\n",
       "4  01/11/15 4:00         1         9  20151101041"
      ]
     },
     "execution_count": 65,
     "metadata": {},
     "output_type": "execute_result"
    }
   ],
   "source": [
    "# Step 1: load the dataset\n",
    "df = pd.read_csv(\"Dataset_Uber Traffic.csv\")\n",
    "df.head()"
   ]
  },
  {
   "cell_type": "code",
   "execution_count": 66,
   "id": "8491e8bd-c472-4e1f-97b0-06f6a17c9ed8",
   "metadata": {},
   "outputs": [
    {
     "data": {
      "text/html": [
       "<div>\n",
       "<style scoped>\n",
       "    .dataframe tbody tr th:only-of-type {\n",
       "        vertical-align: middle;\n",
       "    }\n",
       "\n",
       "    .dataframe tbody tr th {\n",
       "        vertical-align: top;\n",
       "    }\n",
       "\n",
       "    .dataframe thead th {\n",
       "        text-align: right;\n",
       "    }\n",
       "</style>\n",
       "<table border=\"1\" class=\"dataframe\">\n",
       "  <thead>\n",
       "    <tr style=\"text-align: right;\">\n",
       "      <th></th>\n",
       "      <th>DateTime</th>\n",
       "      <th>Junction</th>\n",
       "      <th>Vehicles</th>\n",
       "      <th>ID</th>\n",
       "    </tr>\n",
       "  </thead>\n",
       "  <tbody>\n",
       "    <tr>\n",
       "      <th>0</th>\n",
       "      <td>2015-11-01 00:00:00</td>\n",
       "      <td>1</td>\n",
       "      <td>15</td>\n",
       "      <td>-1323735479</td>\n",
       "    </tr>\n",
       "    <tr>\n",
       "      <th>1</th>\n",
       "      <td>2015-11-01 01:00:00</td>\n",
       "      <td>1</td>\n",
       "      <td>13</td>\n",
       "      <td>-1323735469</td>\n",
       "    </tr>\n",
       "    <tr>\n",
       "      <th>2</th>\n",
       "      <td>2015-11-01 02:00:00</td>\n",
       "      <td>1</td>\n",
       "      <td>10</td>\n",
       "      <td>-1323735459</td>\n",
       "    </tr>\n",
       "    <tr>\n",
       "      <th>3</th>\n",
       "      <td>2015-11-01 03:00:00</td>\n",
       "      <td>1</td>\n",
       "      <td>7</td>\n",
       "      <td>-1323735449</td>\n",
       "    </tr>\n",
       "    <tr>\n",
       "      <th>4</th>\n",
       "      <td>2015-11-01 04:00:00</td>\n",
       "      <td>1</td>\n",
       "      <td>9</td>\n",
       "      <td>-1323735439</td>\n",
       "    </tr>\n",
       "  </tbody>\n",
       "</table>\n",
       "</div>"
      ],
      "text/plain": [
       "             DateTime  Junction  Vehicles          ID\n",
       "0 2015-11-01 00:00:00         1        15 -1323735479\n",
       "1 2015-11-01 01:00:00         1        13 -1323735469\n",
       "2 2015-11-01 02:00:00         1        10 -1323735459\n",
       "3 2015-11-01 03:00:00         1         7 -1323735449\n",
       "4 2015-11-01 04:00:00         1         9 -1323735439"
      ]
     },
     "execution_count": 66,
     "metadata": {},
     "output_type": "execute_result"
    }
   ],
   "source": [
    "# Step 2: Data Cleaning and Pre-processing\n",
    "df['DateTime'] = pd.to_datetime(df['DateTime'], format='%d/%m/%y %H:%M')\n",
    "df = df.dropna().drop_duplicates()\n",
    "df = df.astype({'Junction': int, 'Vehicles': int, 'ID': int})\n",
    "df.head()"
   ]
  },
  {
   "cell_type": "code",
   "execution_count": 67,
   "id": "aec5a15b-507e-465b-8485-091e5f0da5a5",
   "metadata": {},
   "outputs": [
    {
     "data": {
      "text/html": [
       "<div>\n",
       "<style scoped>\n",
       "    .dataframe tbody tr th:only-of-type {\n",
       "        vertical-align: middle;\n",
       "    }\n",
       "\n",
       "    .dataframe tbody tr th {\n",
       "        vertical-align: top;\n",
       "    }\n",
       "\n",
       "    .dataframe thead th {\n",
       "        text-align: right;\n",
       "    }\n",
       "</style>\n",
       "<table border=\"1\" class=\"dataframe\">\n",
       "  <thead>\n",
       "    <tr style=\"text-align: right;\">\n",
       "      <th></th>\n",
       "      <th>DateTime</th>\n",
       "      <th>Junction</th>\n",
       "      <th>Vehicles</th>\n",
       "    </tr>\n",
       "  </thead>\n",
       "  <tbody>\n",
       "    <tr>\n",
       "      <th>0</th>\n",
       "      <td>2015-11-01 00:00:00</td>\n",
       "      <td>1</td>\n",
       "      <td>15</td>\n",
       "    </tr>\n",
       "    <tr>\n",
       "      <th>1</th>\n",
       "      <td>2015-11-01 00:00:00</td>\n",
       "      <td>2</td>\n",
       "      <td>6</td>\n",
       "    </tr>\n",
       "    <tr>\n",
       "      <th>2</th>\n",
       "      <td>2015-11-01 00:00:00</td>\n",
       "      <td>3</td>\n",
       "      <td>9</td>\n",
       "    </tr>\n",
       "    <tr>\n",
       "      <th>3</th>\n",
       "      <td>2015-11-01 01:00:00</td>\n",
       "      <td>1</td>\n",
       "      <td>13</td>\n",
       "    </tr>\n",
       "    <tr>\n",
       "      <th>4</th>\n",
       "      <td>2015-11-01 01:00:00</td>\n",
       "      <td>2</td>\n",
       "      <td>6</td>\n",
       "    </tr>\n",
       "  </tbody>\n",
       "</table>\n",
       "</div>"
      ],
      "text/plain": [
       "             DateTime  Junction  Vehicles\n",
       "0 2015-11-01 00:00:00         1        15\n",
       "1 2015-11-01 00:00:00         2         6\n",
       "2 2015-11-01 00:00:00         3         9\n",
       "3 2015-11-01 01:00:00         1        13\n",
       "4 2015-11-01 01:00:00         2         6"
      ]
     },
     "execution_count": 67,
     "metadata": {},
     "output_type": "execute_result"
    }
   ],
   "source": [
    "# Step 3: Aggregate traffic data into hourly intervals for each junction\n",
    "df_hourly = df.groupby([pd.Grouper(key='DateTime', freq='h'), 'Junction'])['Vehicles'].sum().reset_index()\n",
    "df_hourly.head()"
   ]
  },
  {
   "cell_type": "code",
   "execution_count": 68,
   "id": "be571fd6-d2dc-4be0-aae7-d85e36c9c31d",
   "metadata": {},
   "outputs": [
    {
     "data": {
      "text/plain": [
       "0   -0.375489\n",
       "1   -0.809227\n",
       "2   -0.664648\n",
       "3   -0.471875\n",
       "4   -0.809227\n",
       "Name: Vehicles_scaled, dtype: float64"
      ]
     },
     "execution_count": 68,
     "metadata": {},
     "output_type": "execute_result"
    }
   ],
   "source": [
    "# Step 4: Normalize vehicle counts\n",
    "scaler = StandardScaler()\n",
    "df_hourly['Vehicles_scaled'] = scaler.fit_transform(df_hourly[['Vehicles']])\n",
    "df_hourly['Vehicles_scaled'].head()"
   ]
  },
  {
   "cell_type": "code",
   "execution_count": 69,
   "id": "56634090-b747-44b5-a51a-798b8c806cd2",
   "metadata": {},
   "outputs": [],
   "source": [
    "# Step 5: Feature Engineering\n",
    "df_hourly['Hour'] = df_hourly['DateTime'].dt.hour\n",
    "df_hourly['DayOfWeek'] = df_hourly['DateTime'].dt.dayofweek\n",
    "df_hourly['Month'] = df_hourly['DateTime'].dt.month\n",
    "df_hourly['Lag_1'] = df_hourly.groupby('Junction')['Vehicles'].shift(1)\n",
    "df_hourly['Lag_24'] = df_hourly.groupby('Junction')['Vehicles'].shift(24)\n",
    "df_hourly['IsWeekend'] = df_hourly['DayOfWeek'].isin([5, 6]).astype(int)\n"
   ]
  },
  {
   "cell_type": "code",
   "execution_count": 70,
   "id": "fbfa92f5-82ee-4a36-b92e-053bc6cf6746",
   "metadata": {},
   "outputs": [
    {
     "data": {
      "text/plain": [
       "DateTime            0\n",
       "Junction            0\n",
       "Vehicles            0\n",
       "Vehicles_scaled     0\n",
       "Hour                0\n",
       "DayOfWeek           0\n",
       "Month               0\n",
       "Lag_1               4\n",
       "Lag_24             96\n",
       "IsWeekend           0\n",
       "dtype: int64"
      ]
     },
     "execution_count": 70,
     "metadata": {},
     "output_type": "execute_result"
    }
   ],
   "source": [
    "# Finding the NaN values in each columns\n",
    "df_hourly.isnull().sum()"
   ]
  },
  {
   "cell_type": "code",
   "execution_count": 71,
   "id": "0d5d7c00-a737-47d5-97ea-db6a919611c1",
   "metadata": {},
   "outputs": [
    {
     "data": {
      "text/plain": [
       "DateTime           0\n",
       "Junction           0\n",
       "Vehicles           0\n",
       "Vehicles_scaled    0\n",
       "Hour               0\n",
       "DayOfWeek          0\n",
       "Month              0\n",
       "Lag_1              0\n",
       "Lag_24             0\n",
       "IsWeekend          0\n",
       "dtype: int64"
      ]
     },
     "execution_count": 71,
     "metadata": {},
     "output_type": "execute_result"
    }
   ],
   "source": [
    "# Drop rows with any NaN values before calculating correlation\n",
    "df_hourly_cleaned = df_hourly.dropna(subset=['Lag_1', 'Lag_24'])\n",
    "df_hourly_cleaned.isnull().sum()\n"
   ]
  },
  {
   "cell_type": "code",
   "execution_count": 72,
   "id": "4af79beb-d343-4840-9254-fbf498b44aa1",
   "metadata": {},
   "outputs": [
    {
     "data": {
      "text/html": [
       "<div>\n",
       "<style scoped>\n",
       "    .dataframe tbody tr th:only-of-type {\n",
       "        vertical-align: middle;\n",
       "    }\n",
       "\n",
       "    .dataframe tbody tr th {\n",
       "        vertical-align: top;\n",
       "    }\n",
       "\n",
       "    .dataframe thead th {\n",
       "        text-align: right;\n",
       "    }\n",
       "</style>\n",
       "<table border=\"1\" class=\"dataframe\">\n",
       "  <thead>\n",
       "    <tr style=\"text-align: right;\">\n",
       "      <th></th>\n",
       "      <th>Vehicles</th>\n",
       "      <th>Hour</th>\n",
       "      <th>DayOfWeek</th>\n",
       "      <th>Month</th>\n",
       "      <th>Lag_1</th>\n",
       "      <th>Lag_24</th>\n",
       "      <th>IsWeekend</th>\n",
       "    </tr>\n",
       "  </thead>\n",
       "  <tbody>\n",
       "    <tr>\n",
       "      <th>Vehicles</th>\n",
       "      <td>1.000000</td>\n",
       "      <td>2.201674e-01</td>\n",
       "      <td>-1.241237e-01</td>\n",
       "      <td>-2.190100e-02</td>\n",
       "      <td>0.970122</td>\n",
       "      <td>0.905146</td>\n",
       "      <td>-1.486294e-01</td>\n",
       "    </tr>\n",
       "    <tr>\n",
       "      <th>Hour</th>\n",
       "      <td>0.220167</td>\n",
       "      <td>1.000000e+00</td>\n",
       "      <td>1.651634e-17</td>\n",
       "      <td>1.483313e-15</td>\n",
       "      <td>0.200565</td>\n",
       "      <td>0.219917</td>\n",
       "      <td>2.164045e-17</td>\n",
       "    </tr>\n",
       "    <tr>\n",
       "      <th>DayOfWeek</th>\n",
       "      <td>-0.124124</td>\n",
       "      <td>1.651634e-17</td>\n",
       "      <td>1.000000e+00</td>\n",
       "      <td>-5.431359e-03</td>\n",
       "      <td>-0.120821</td>\n",
       "      <td>0.009410</td>\n",
       "      <td>7.891759e-01</td>\n",
       "    </tr>\n",
       "    <tr>\n",
       "      <th>Month</th>\n",
       "      <td>-0.021901</td>\n",
       "      <td>1.483313e-15</td>\n",
       "      <td>-5.431359e-03</td>\n",
       "      <td>1.000000e+00</td>\n",
       "      <td>-0.021698</td>\n",
       "      <td>-0.018188</td>\n",
       "      <td>-7.949083e-03</td>\n",
       "    </tr>\n",
       "    <tr>\n",
       "      <th>Lag_1</th>\n",
       "      <td>0.970122</td>\n",
       "      <td>2.005647e-01</td>\n",
       "      <td>-1.208206e-01</td>\n",
       "      <td>-2.169809e-02</td>\n",
       "      <td>1.000000</td>\n",
       "      <td>0.896069</td>\n",
       "      <td>-1.471770e-01</td>\n",
       "    </tr>\n",
       "    <tr>\n",
       "      <th>Lag_24</th>\n",
       "      <td>0.905146</td>\n",
       "      <td>2.199172e-01</td>\n",
       "      <td>9.410208e-03</td>\n",
       "      <td>-1.818813e-02</td>\n",
       "      <td>0.896069</td>\n",
       "      <td>1.000000</td>\n",
       "      <td>-5.069604e-02</td>\n",
       "    </tr>\n",
       "    <tr>\n",
       "      <th>IsWeekend</th>\n",
       "      <td>-0.148629</td>\n",
       "      <td>2.164045e-17</td>\n",
       "      <td>7.891759e-01</td>\n",
       "      <td>-7.949083e-03</td>\n",
       "      <td>-0.147177</td>\n",
       "      <td>-0.050696</td>\n",
       "      <td>1.000000e+00</td>\n",
       "    </tr>\n",
       "  </tbody>\n",
       "</table>\n",
       "</div>"
      ],
      "text/plain": [
       "           Vehicles          Hour     DayOfWeek         Month     Lag_1  \\\n",
       "Vehicles   1.000000  2.201674e-01 -1.241237e-01 -2.190100e-02  0.970122   \n",
       "Hour       0.220167  1.000000e+00  1.651634e-17  1.483313e-15  0.200565   \n",
       "DayOfWeek -0.124124  1.651634e-17  1.000000e+00 -5.431359e-03 -0.120821   \n",
       "Month     -0.021901  1.483313e-15 -5.431359e-03  1.000000e+00 -0.021698   \n",
       "Lag_1      0.970122  2.005647e-01 -1.208206e-01 -2.169809e-02  1.000000   \n",
       "Lag_24     0.905146  2.199172e-01  9.410208e-03 -1.818813e-02  0.896069   \n",
       "IsWeekend -0.148629  2.164045e-17  7.891759e-01 -7.949083e-03 -0.147177   \n",
       "\n",
       "             Lag_24     IsWeekend  \n",
       "Vehicles   0.905146 -1.486294e-01  \n",
       "Hour       0.219917  2.164045e-17  \n",
       "DayOfWeek  0.009410  7.891759e-01  \n",
       "Month     -0.018188 -7.949083e-03  \n",
       "Lag_1      0.896069 -1.471770e-01  \n",
       "Lag_24     1.000000 -5.069604e-02  \n",
       "IsWeekend -0.050696  1.000000e+00  "
      ]
     },
     "execution_count": 72,
     "metadata": {},
     "output_type": "execute_result"
    }
   ],
   "source": [
    "# Calculate the correlation matrix\n",
    "correlation_matrix_cleaned = df_hourly_cleaned[['Vehicles', 'Hour', 'DayOfWeek', 'Month', 'Lag_1', 'Lag_24', 'IsWeekend']].corr()\n",
    "\n",
    "correlation_matrix_cleaned\n"
   ]
  },
  {
   "cell_type": "code",
   "execution_count": null,
   "id": "455d713e-3615-45cb-a79a-628e73b881e1",
   "metadata": {},
   "outputs": [],
   "source": []
  }
 ],
 "metadata": {
  "kernelspec": {
   "display_name": "Python 3 (ipykernel)",
   "language": "python",
   "name": "python3"
  },
  "language_info": {
   "codemirror_mode": {
    "name": "ipython",
    "version": 3
   },
   "file_extension": ".py",
   "mimetype": "text/x-python",
   "name": "python",
   "nbconvert_exporter": "python",
   "pygments_lexer": "ipython3",
   "version": "3.12.7"
  }
 },
 "nbformat": 4,
 "nbformat_minor": 5
}
