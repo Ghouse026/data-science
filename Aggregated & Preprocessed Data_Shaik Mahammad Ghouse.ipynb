{
 "cells": [
  {
   "cell_type": "code",
   "execution_count": 6,
   "id": "0a727fcf-f4cb-4da8-b7cd-d3b1f8c5a8f3",
   "metadata": {},
   "outputs": [],
   "source": [
    "import pandas as pd\n",
    "import seaborn as sns\n",
    "import matplotlib.pyplot as plt\n",
    "from sklearn.preprocessing import StandardScaler"
   ]
  },
  {
   "cell_type": "code",
   "execution_count": 7,
   "id": "87da9567-1398-4fed-917f-e943695eb936",
   "metadata": {},
   "outputs": [
    {
     "data": {
      "text/html": [
       "<div>\n",
       "<style scoped>\n",
       "    .dataframe tbody tr th:only-of-type {\n",
       "        vertical-align: middle;\n",
       "    }\n",
       "\n",
       "    .dataframe tbody tr th {\n",
       "        vertical-align: top;\n",
       "    }\n",
       "\n",
       "    .dataframe thead th {\n",
       "        text-align: right;\n",
       "    }\n",
       "</style>\n",
       "<table border=\"1\" class=\"dataframe\">\n",
       "  <thead>\n",
       "    <tr style=\"text-align: right;\">\n",
       "      <th></th>\n",
       "      <th>DateTime</th>\n",
       "      <th>Junction</th>\n",
       "      <th>Vehicles</th>\n",
       "      <th>ID</th>\n",
       "    </tr>\n",
       "  </thead>\n",
       "  <tbody>\n",
       "    <tr>\n",
       "      <th>0</th>\n",
       "      <td>01/11/15 0:00</td>\n",
       "      <td>1</td>\n",
       "      <td>15</td>\n",
       "      <td>20151101001</td>\n",
       "    </tr>\n",
       "    <tr>\n",
       "      <th>1</th>\n",
       "      <td>01/11/15 1:00</td>\n",
       "      <td>1</td>\n",
       "      <td>13</td>\n",
       "      <td>20151101011</td>\n",
       "    </tr>\n",
       "    <tr>\n",
       "      <th>2</th>\n",
       "      <td>01/11/15 2:00</td>\n",
       "      <td>1</td>\n",
       "      <td>10</td>\n",
       "      <td>20151101021</td>\n",
       "    </tr>\n",
       "    <tr>\n",
       "      <th>3</th>\n",
       "      <td>01/11/15 3:00</td>\n",
       "      <td>1</td>\n",
       "      <td>7</td>\n",
       "      <td>20151101031</td>\n",
       "    </tr>\n",
       "    <tr>\n",
       "      <th>4</th>\n",
       "      <td>01/11/15 4:00</td>\n",
       "      <td>1</td>\n",
       "      <td>9</td>\n",
       "      <td>20151101041</td>\n",
       "    </tr>\n",
       "  </tbody>\n",
       "</table>\n",
       "</div>"
      ],
      "text/plain": [
       "        DateTime  Junction  Vehicles           ID\n",
       "0  01/11/15 0:00         1        15  20151101001\n",
       "1  01/11/15 1:00         1        13  20151101011\n",
       "2  01/11/15 2:00         1        10  20151101021\n",
       "3  01/11/15 3:00         1         7  20151101031\n",
       "4  01/11/15 4:00         1         9  20151101041"
      ]
     },
     "execution_count": 7,
     "metadata": {},
     "output_type": "execute_result"
    }
   ],
   "source": [
    "# Step 1: load the dataset\n",
    "df = pd.read_csv(\"Dataset_Uber Traffic.csv\")\n",
    "df.head()"
   ]
  },
  {
   "cell_type": "code",
   "execution_count": 8,
   "id": "8a029463-7825-466e-a302-d2efbae420a5",
   "metadata": {},
   "outputs": [
    {
     "data": {
      "text/plain": [
       "(48120, 4)"
      ]
     },
     "execution_count": 8,
     "metadata": {},
     "output_type": "execute_result"
    }
   ],
   "source": [
    "df.shape"
   ]
  },
  {
   "cell_type": "code",
   "execution_count": 9,
   "id": "f5f99481-b536-49b2-aee4-8a4bee6fb559",
   "metadata": {},
   "outputs": [
    {
     "name": "stdout",
     "output_type": "stream",
     "text": [
      "<class 'pandas.core.frame.DataFrame'>\n",
      "RangeIndex: 48120 entries, 0 to 48119\n",
      "Data columns (total 4 columns):\n",
      " #   Column    Non-Null Count  Dtype \n",
      "---  ------    --------------  ----- \n",
      " 0   DateTime  48120 non-null  object\n",
      " 1   Junction  48120 non-null  int64 \n",
      " 2   Vehicles  48120 non-null  int64 \n",
      " 3   ID        48120 non-null  int64 \n",
      "dtypes: int64(3), object(1)\n",
      "memory usage: 1.5+ MB\n"
     ]
    }
   ],
   "source": [
    "df.info()"
   ]
  },
  {
   "cell_type": "code",
   "execution_count": 10,
   "id": "45b5d34a-24af-4d97-b894-832b27a9ec9b",
   "metadata": {},
   "outputs": [
    {
     "name": "stdout",
     "output_type": "stream",
     "text": [
      "<class 'pandas.core.frame.DataFrame'>\n",
      "RangeIndex: 48120 entries, 0 to 48119\n",
      "Data columns (total 3 columns):\n",
      " #   Column    Non-Null Count  Dtype         \n",
      "---  ------    --------------  -----         \n",
      " 0   DateTime  48120 non-null  datetime64[ns]\n",
      " 1   Junction  48120 non-null  int64         \n",
      " 2   Vehicles  48120 non-null  int64         \n",
      "dtypes: datetime64[ns](1), int64(2)\n",
      "memory usage: 1.1 MB\n"
     ]
    }
   ],
   "source": [
    "# Step 2: Data Cleaning\n",
    "\n",
    "# Convert 'DateTime' to datetime format\n",
    "df['DateTime'] = pd.to_datetime(df['DateTime'], format=\"%d/%m/%y %H:%M\")\n",
    "\n",
    "# Drop duplicates if any\n",
    "df = df.drop_duplicates()\n",
    "\n",
    "# Check for missing values and handle them (here, we'll just drop if any)\n",
    "df = df.dropna()\n",
    "\n",
    "# Drop 'ID' column if not needed\n",
    "df = df.drop(columns=['ID'])\n",
    "\n",
    "df.info()"
   ]
  },
  {
   "cell_type": "code",
   "execution_count": 11,
   "id": "2d5bcf41-2eb0-4ec6-83de-267e7493bfc9",
   "metadata": {},
   "outputs": [],
   "source": [
    "# Step 3: Aggregate traffic data hourly per junction\n",
    "\n",
    "data_aggregated = df.groupby(['DateTime', 'Junction']).agg({'Vehicles': 'sum'}).reset_index()\n"
   ]
  },
  {
   "cell_type": "code",
   "execution_count": 12,
   "id": "3ddd07fc-21c5-46d9-a7be-268338dd84e1",
   "metadata": {},
   "outputs": [],
   "source": [
    "# Extract date and time features\n",
    "data_aggregated['Hour'] = data_aggregated['DateTime'].dt.hour\n",
    "data_aggregated['Day'] = data_aggregated['DateTime'].dt.day\n",
    "data_aggregated['Weekday'] = data_aggregated['DateTime'].dt.weekday\n",
    "data_aggregated['Month'] = data_aggregated['DateTime'].dt.month\n",
    "data_aggregated['Year'] = data_aggregated['DateTime'].dt.year\n",
    "\n",
    "# Lag features\n",
    "data_aggregated['Lag_1hr'] = data_aggregated.groupby('Junction')['Vehicles'].shift(1)\n",
    "data_aggregated['Lag_24hr'] = data_aggregated.groupby('Junction')['Vehicles'].shift(24)\n",
    "\n",
    "# Weekend flag\n",
    "data_aggregated['IsWeekend'] = data_aggregated['Weekday'].isin([5, 6]).astype(int)\n",
    "\n",
    "# Drop NA values caused by lagging\n",
    "data_aggregated.dropna(inplace=True)"
   ]
  },
  {
   "cell_type": "code",
   "execution_count": 13,
   "id": "d537f9b4-323f-41d9-87bb-f641e4eb9f37",
   "metadata": {},
   "outputs": [],
   "source": [
    "# Define the feature columns\n",
    "feature_cols = ['Hour', 'Day', 'Weekday', 'Month', 'Year', 'Junction', 'IsWeekend', 'Lag_1hr', 'Lag_24hr']\n",
    "\n",
    "# Extract features\n",
    "X = data_aggregated[feature_cols]\n",
    "Y = data_aggregated['Vehicles']\n",
    "# Normalize the features\n",
    "scaler = StandardScaler()\n",
    "X_scaled = scaler.fit_transform(X)\n"
   ]
  },
  {
   "cell_type": "code",
   "execution_count": 14,
   "id": "33ec7a69-1ef7-4117-af3e-94822d28af96",
   "metadata": {},
   "outputs": [
    {
     "data": {
      "text/plain": [
       "(48024, 11)"
      ]
     },
     "execution_count": 14,
     "metadata": {},
     "output_type": "execute_result"
    }
   ],
   "source": [
    "data_aggregated.shape"
   ]
  },
  {
   "cell_type": "code",
   "execution_count": 15,
   "id": "f85f18c5-b03d-43df-b5ae-27756eb92f2f",
   "metadata": {},
   "outputs": [
    {
     "name": "stdout",
     "output_type": "stream",
     "text": [
      "<class 'pandas.core.frame.DataFrame'>\n",
      "Index: 48024 entries, 72 to 48119\n",
      "Data columns (total 11 columns):\n",
      " #   Column     Non-Null Count  Dtype         \n",
      "---  ------     --------------  -----         \n",
      " 0   DateTime   48024 non-null  datetime64[ns]\n",
      " 1   Junction   48024 non-null  int64         \n",
      " 2   Vehicles   48024 non-null  int64         \n",
      " 3   Hour       48024 non-null  int32         \n",
      " 4   Day        48024 non-null  int32         \n",
      " 5   Weekday    48024 non-null  int32         \n",
      " 6   Month      48024 non-null  int32         \n",
      " 7   Year       48024 non-null  int32         \n",
      " 8   Lag_1hr    48024 non-null  float64       \n",
      " 9   Lag_24hr   48024 non-null  float64       \n",
      " 10  IsWeekend  48024 non-null  int32         \n",
      "dtypes: datetime64[ns](1), float64(2), int32(6), int64(2)\n",
      "memory usage: 3.3 MB\n"
     ]
    }
   ],
   "source": [
    "data_aggregated.info()"
   ]
  },
  {
   "cell_type": "code",
   "execution_count": 16,
   "id": "fbfa92f5-82ee-4a36-b92e-053bc6cf6746",
   "metadata": {},
   "outputs": [
    {
     "data": {
      "text/plain": [
       "DateTime     0\n",
       "Junction     0\n",
       "Vehicles     0\n",
       "Hour         0\n",
       "Day          0\n",
       "Weekday      0\n",
       "Month        0\n",
       "Year         0\n",
       "Lag_1hr      0\n",
       "Lag_24hr     0\n",
       "IsWeekend    0\n",
       "dtype: int64"
      ]
     },
     "execution_count": 16,
     "metadata": {},
     "output_type": "execute_result"
    }
   ],
   "source": [
    "# Finding the NaN values in each columns\n",
    "data_aggregated.isnull().sum()"
   ]
  },
  {
   "cell_type": "code",
   "execution_count": 17,
   "id": "4af79beb-d343-4840-9254-fbf498b44aa1",
   "metadata": {},
   "outputs": [
    {
     "data": {
      "text/html": [
       "<div>\n",
       "<style scoped>\n",
       "    .dataframe tbody tr th:only-of-type {\n",
       "        vertical-align: middle;\n",
       "    }\n",
       "\n",
       "    .dataframe tbody tr th {\n",
       "        vertical-align: top;\n",
       "    }\n",
       "\n",
       "    .dataframe thead th {\n",
       "        text-align: right;\n",
       "    }\n",
       "</style>\n",
       "<table border=\"1\" class=\"dataframe\">\n",
       "  <thead>\n",
       "    <tr style=\"text-align: right;\">\n",
       "      <th></th>\n",
       "      <th>Junction</th>\n",
       "      <th>Hour</th>\n",
       "      <th>Day</th>\n",
       "      <th>Weekday</th>\n",
       "      <th>Month</th>\n",
       "      <th>Year</th>\n",
       "      <th>Lag_1hr</th>\n",
       "      <th>Lag_24hr</th>\n",
       "      <th>IsWeekend</th>\n",
       "    </tr>\n",
       "  </thead>\n",
       "  <tbody>\n",
       "    <tr>\n",
       "      <th>Junction</th>\n",
       "      <td>1.000000e+00</td>\n",
       "      <td>-4.946941e-16</td>\n",
       "      <td>-9.935785e-04</td>\n",
       "      <td>-1.657164e-03</td>\n",
       "      <td>-1.230177e-01</td>\n",
       "      <td>2.207096e-01</td>\n",
       "      <td>-0.614185</td>\n",
       "      <td>-0.613890</td>\n",
       "      <td>-2.099867e-03</td>\n",
       "    </tr>\n",
       "    <tr>\n",
       "      <th>Hour</th>\n",
       "      <td>-4.946941e-16</td>\n",
       "      <td>1.000000e+00</td>\n",
       "      <td>-1.616984e-16</td>\n",
       "      <td>1.651634e-17</td>\n",
       "      <td>1.483313e-15</td>\n",
       "      <td>7.941649e-15</td>\n",
       "      <td>0.200565</td>\n",
       "      <td>0.219917</td>\n",
       "      <td>2.164045e-17</td>\n",
       "    </tr>\n",
       "    <tr>\n",
       "      <th>Day</th>\n",
       "      <td>-9.935785e-04</td>\n",
       "      <td>-1.616984e-16</td>\n",
       "      <td>1.000000e+00</td>\n",
       "      <td>4.183192e-03</td>\n",
       "      <td>1.166212e-02</td>\n",
       "      <td>-1.172938e-02</td>\n",
       "      <td>0.025437</td>\n",
       "      <td>0.025346</td>\n",
       "      <td>8.193266e-03</td>\n",
       "    </tr>\n",
       "    <tr>\n",
       "      <th>Weekday</th>\n",
       "      <td>-1.657164e-03</td>\n",
       "      <td>1.651634e-17</td>\n",
       "      <td>4.183192e-03</td>\n",
       "      <td>1.000000e+00</td>\n",
       "      <td>-5.431359e-03</td>\n",
       "      <td>5.059544e-03</td>\n",
       "      <td>-0.120821</td>\n",
       "      <td>0.009410</td>\n",
       "      <td>7.891759e-01</td>\n",
       "    </tr>\n",
       "    <tr>\n",
       "      <th>Month</th>\n",
       "      <td>-1.230177e-01</td>\n",
       "      <td>1.483313e-15</td>\n",
       "      <td>1.166212e-02</td>\n",
       "      <td>-5.431359e-03</td>\n",
       "      <td>1.000000e+00</td>\n",
       "      <td>-6.217062e-01</td>\n",
       "      <td>-0.021698</td>\n",
       "      <td>-0.018188</td>\n",
       "      <td>-7.949083e-03</td>\n",
       "    </tr>\n",
       "  </tbody>\n",
       "</table>\n",
       "</div>"
      ],
      "text/plain": [
       "              Junction          Hour           Day       Weekday  \\\n",
       "Junction  1.000000e+00 -4.946941e-16 -9.935785e-04 -1.657164e-03   \n",
       "Hour     -4.946941e-16  1.000000e+00 -1.616984e-16  1.651634e-17   \n",
       "Day      -9.935785e-04 -1.616984e-16  1.000000e+00  4.183192e-03   \n",
       "Weekday  -1.657164e-03  1.651634e-17  4.183192e-03  1.000000e+00   \n",
       "Month    -1.230177e-01  1.483313e-15  1.166212e-02 -5.431359e-03   \n",
       "\n",
       "                 Month          Year   Lag_1hr  Lag_24hr     IsWeekend  \n",
       "Junction -1.230177e-01  2.207096e-01 -0.614185 -0.613890 -2.099867e-03  \n",
       "Hour      1.483313e-15  7.941649e-15  0.200565  0.219917  2.164045e-17  \n",
       "Day       1.166212e-02 -1.172938e-02  0.025437  0.025346  8.193266e-03  \n",
       "Weekday  -5.431359e-03  5.059544e-03 -0.120821  0.009410  7.891759e-01  \n",
       "Month     1.000000e+00 -6.217062e-01 -0.021698 -0.018188 -7.949083e-03  "
      ]
     },
     "execution_count": 17,
     "metadata": {},
     "output_type": "execute_result"
    }
   ],
   "source": [
    "# Calculate the correlation matrix\n",
    "correlation_matrix = data_aggregated[['Junction', 'Hour', 'Day', 'Weekday', 'Month', \n",
    "                                                'Year', 'Lag_1hr', 'Lag_24hr', 'IsWeekend']].corr()\n",
    "\n",
    "correlation_matrix.head()\n"
   ]
  },
  {
   "cell_type": "code",
   "execution_count": 18,
   "id": "ca8d0610-5916-4f2c-805b-6be75fbcde48",
   "metadata": {},
   "outputs": [
    {
     "data": {
      "image/png": "[encoded data removed]",
      "text/plain": [
       "<Figure size 600x400 with 2 Axes>"
      ]
     },
     "metadata": {},
     "output_type": "display_data"
    }
   ],
   "source": [
    "# Plot heatmap\n",
    "plt.figure(figsize=(6, 4))\n",
    "sns.heatmap(correlation_matrix, annot=True, cmap='coolwarm', fmt=\".2f\")\n",
    "plt.title(\"Correlation Matrix\")\n",
    "plt.show()"
   ]
  },
  {
   "cell_type": "code",
   "execution_count": 20,
   "id": "e0206832-6392-47f6-bdf7-3bcad9696650",
   "metadata": {},
   "outputs": [],
   "source": [
    "data_aggregated.to_csv(\"Traffic_New.csv\")"
   ]
  },
  {
   "cell_type": "code",
   "execution_count": null,
   "id": "a16509b5-a118-4cad-a090-36d49dc8c52e",
   "metadata": {},
   "outputs": [],
   "source": []
  }
 ],
 "metadata": {
  "kernelspec": {
   "display_name": "Python 3 (ipykernel)",
   "language": "python",
   "name": "python3"
  },
  "language_info": {
   "codemirror_mode": {
    "name": "ipython",
    "version": 3
   },
   "file_extension": ".py",
   "mimetype": "text/x-python",
   "name": "python",
   "nbconvert_exporter": "python",
   "pygments_lexer": "ipython3",
   "version": "3.12.7"
  }
 },
 "nbformat": 4,
 "nbformat_minor": 5
}
